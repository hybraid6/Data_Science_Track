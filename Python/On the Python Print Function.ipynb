{
 "cells": [
  {
   "cell_type": "markdown",
   "id": "4bd1557b",
   "metadata": {},
   "source": [
    "# On the `print()` function in Python\n",
    "The `print()` function in Python is used to output data to the console. It is a versatile function with several features and options that make it useful for displaying information."
   ]
  },
  {
   "cell_type": "markdown",
   "id": "2f34384b",
   "metadata": {},
   "source": [
    "### Basic Usage"
   ]
  },
  {
   "cell_type": "markdown",
   "id": "8476634f",
   "metadata": {},
   "source": [
    "### Printing a string"
   ]
  },
  {
   "cell_type": "code",
   "execution_count": null,
   "id": "9dc1fabc",
   "metadata": {},
   "outputs": [],
   "source": [
    "print(\"Hello, world!\")"
   ]
  },
  {
   "cell_type": "markdown",
   "id": "c6b74596",
   "metadata": {},
   "source": [
    "### Printing Multiple Items\n",
    "You can print multiple items by separating them with commas. The `print()` function automatically adds a space between each item."
   ]
  },
  {
   "cell_type": "code",
   "execution_count": null,
   "id": "94b60b98",
   "metadata": {},
   "outputs": [],
   "source": [
    "name = \"Alice\"\n",
    "age = 25\n",
    "print(\"Name:\", name, \"Age:\", age)  # Output: Name: Alice Age: 25"
   ]
  },
  {
   "cell_type": "markdown",
   "id": "e34dbf8b",
   "metadata": {},
   "source": [
    "### Using the `sep` Parameter\n",
    "The `sep` parameter allows you to specify a different separator between items."
   ]
  },
  {
   "cell_type": "code",
   "execution_count": null,
   "id": "59aa14fa",
   "metadata": {},
   "outputs": [],
   "source": [
    "print(\"apple\", \"banana\", \"cherry\", sep=\"; \")  # Output: apple; banana; cherry"
   ]
  },
  {
   "cell_type": "markdown",
   "id": "52fc768c",
   "metadata": {},
   "source": [
    "### Using the `end` Parameter\n",
    "- The `end` parameter allows you to specify what should be printed at the end of the output. \n",
    "- By default, it is a newline character (`\\n`), but you can change it."
   ]
  },
  {
   "cell_type": "code",
   "execution_count": null,
   "id": "85f54465",
   "metadata": {},
   "outputs": [],
   "source": [
    "print(\"Hello\", end=\" \")\n",
    "print(\"world!\")  # Output: Hello world!"
   ]
  },
  {
   "cell_type": "markdown",
   "id": "6d003ef5",
   "metadata": {},
   "source": [
    "### Formatting Output\n",
    "You can format your output using f-strings (formatted string literals), the `str.format()` method, or the `%` operator."
   ]
  },
  {
   "cell_type": "markdown",
   "id": "d83770d1",
   "metadata": {},
   "source": [
    "#### Using f-strings (Python 3.6+)\n"
   ]
  },
  {
   "cell_type": "code",
   "execution_count": null,
   "id": "fed36129",
   "metadata": {
    "scrolled": true
   },
   "outputs": [],
   "source": [
    "name = \"Alice\"\n",
    "age = 25\n",
    "print(f\"Name: {name}, Age: {age}\")  # Output: Name: Alice, Age: 25"
   ]
  },
  {
   "cell_type": "markdown",
   "id": "5bc97a96",
   "metadata": {},
   "source": [
    "#### Using `str.format()`"
   ]
  },
  {
   "cell_type": "code",
   "execution_count": null,
   "id": "6da4f139",
   "metadata": {},
   "outputs": [],
   "source": [
    "name = \"Alice\"\n",
    "age = 25\n",
    "print(\"Name: {}, Age: {}\".format(name, age))  # Output: Name: Alice, Age: 25"
   ]
  },
  {
   "cell_type": "markdown",
   "id": "0ab91dfc",
   "metadata": {},
   "source": [
    "#### Using `%` Operator"
   ]
  },
  {
   "cell_type": "code",
   "execution_count": null,
   "id": "2e8ffb86",
   "metadata": {},
   "outputs": [],
   "source": [
    "name = \"Alice\"\n",
    "age = 25\n",
    "print(\"Name: %s, Age: %d\" % (name, age))  # Output: Name: Alice, Age: 25"
   ]
  },
  {
   "cell_type": "markdown",
   "id": "12f7fa35",
   "metadata": {},
   "source": [
    "Note: \n",
    "- %s is a placeholder for a string.\n",
    "- %d is a placeholder for an integer.\n"
   ]
  },
  {
   "cell_type": "markdown",
   "id": "17126a1b",
   "metadata": {},
   "source": [
    "### Printing Special Characters\n",
    "You can include special characters in your strings, such as newlines (`\\n`) and tabs (`\\t`).\n"
   ]
  },
  {
   "cell_type": "code",
   "execution_count": null,
   "id": "8e6c9c34",
   "metadata": {},
   "outputs": [],
   "source": [
    "print(\"Hello\\nWorld\")  # Output: \n",
    "# Hello \n",
    "# World"
   ]
  },
  {
   "cell_type": "code",
   "execution_count": null,
   "id": "aa3a6cf6",
   "metadata": {},
   "outputs": [],
   "source": [
    "print(\"Hello\\tWorld\")  # Output: Hello    World"
   ]
  },
  {
   "cell_type": "markdown",
   "id": "eb88a52d",
   "metadata": {},
   "source": [
    "### Printing to a File\n",
    "You can redirect the output of the `print()` function to a file (in your computer for instance) using the `file` parameter."
   ]
  },
  {
   "cell_type": "code",
   "execution_count": null,
   "id": "9efa4572",
   "metadata": {},
   "outputs": [],
   "source": [
    "with open(\"output.txt\", \"w\") as file:\n",
    "    print(\"Hello, world!\", file=file)\n",
    "    \n",
    "# The text \"Hello, world!\" will be written into the newly created file \"output.txt\"   "
   ]
  },
  {
   "cell_type": "markdown",
   "id": "ada76276",
   "metadata": {},
   "source": [
    "### Example Combining Several Features\n"
   ]
  },
  {
   "cell_type": "code",
   "execution_count": null,
   "id": "d42ddba7",
   "metadata": {},
   "outputs": [],
   "source": [
    "# Here’s an example that combines several features of the `print()` function:\n",
    "\n",
    "name = \"Alice\"\n",
    "age = 25\n",
    "fruits = [\"apple\", \"banana\", \"cherry\"]\n",
    "\n",
    "print(f\"Name: {name}, Age: {age}\", end=\"\\n\\n\")\n",
    "print(\"Favorite fruits:\", *fruits, sep=\", \", end=\".\\n\")\n",
    "print(\"New line and a tab:\\n\\tIndented text\")"
   ]
  },
  {
   "cell_type": "markdown",
   "id": "ba5a6edb",
   "metadata": {},
   "source": [
    "This script will produce the following output:\n",
    "```\n",
    "Name: Alice, Age: 25\n",
    "\n",
    "Favorite fruits: apple, banana, cherry.\n",
    "New line and a tab:\n",
    "\tIndented text\n",
    "```"
   ]
  },
  {
   "cell_type": "markdown",
   "id": "79ef0a51",
   "metadata": {},
   "source": [
    "#### Feel free to play around with the different features for the Print() function"
   ]
  }
 ],
 "metadata": {
  "kernelspec": {
   "display_name": "Python 3 (ipykernel)",
   "language": "python",
   "name": "python3"
  },
  "language_info": {
   "codemirror_mode": {
    "name": "ipython",
    "version": 3
   },
   "file_extension": ".py",
   "mimetype": "text/x-python",
   "name": "python",
   "nbconvert_exporter": "python",
   "pygments_lexer": "ipython3",
   "version": "3.10.9"
  }
 },
 "nbformat": 4,
 "nbformat_minor": 5
}
