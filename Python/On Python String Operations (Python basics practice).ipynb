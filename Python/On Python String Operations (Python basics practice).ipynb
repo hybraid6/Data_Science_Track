{
 "cells": [
  {
   "cell_type": "markdown",
   "id": "370d921e",
   "metadata": {},
   "source": [
    "# String Operations in Python"
   ]
  },
  {
   "cell_type": "markdown",
   "id": "598a4c3a",
   "metadata": {},
   "source": [
    "### 1. Concatenation\n",
    "Concatenation is combining two or more strings into one"
   ]
  },
  {
   "cell_type": "code",
   "execution_count": null,
   "id": "50c79815",
   "metadata": {},
   "outputs": [],
   "source": [
    "str1 = \"Hello\"\n",
    "str2 = \"World\"\n",
    "\n",
    "concatenated_str = str1 + \" \" + str2  # \"Hello World\"\n",
    "print(concatenated_str)"
   ]
  },
  {
   "cell_type": "code",
   "execution_count": null,
   "id": "5008d902",
   "metadata": {},
   "outputs": [],
   "source": [
    "# Practice Question:\n",
    "# 1. Concatenate the strings \"Python\" and \"Programming\" with a space in between."
   ]
  },
  {
   "cell_type": "markdown",
   "id": "25f2eabf",
   "metadata": {},
   "source": [
    "### 2. Repetition\n",
    "Repetition is repeating a string multiple times using the multiplication operator (*)."
   ]
  },
  {
   "cell_type": "code",
   "execution_count": null,
   "id": "b2ce970c",
   "metadata": {},
   "outputs": [],
   "source": [
    "repeat_str = str1 * 3  # \"HelloHelloHello\"\n",
    "print(repeat_str)"
   ]
  },
  {
   "cell_type": "code",
   "execution_count": null,
   "id": "c0fa4719",
   "metadata": {},
   "outputs": [],
   "source": [
    "# Practice Question:\n",
    "# 1. Repeat the string \"Hi\" 5 times."
   ]
  },
  {
   "cell_type": "markdown",
   "id": "6c6e6ff1",
   "metadata": {},
   "source": [
    "### 3. Indexing\n",
    "- Indexing is accessing a single character from a string using its position.\n",
    "- In Python, strings are sequences of characters. Each character in a string has a position, known as an index.\n",
    "- Indexes start at 0 for the first character and go up to n-1 for a string of length n."
   ]
  },
  {
   "cell_type": "code",
   "execution_count": null,
   "id": "dbf12ee8",
   "metadata": {},
   "outputs": [],
   "source": [
    "my_string = \"Hello, World!\"\n",
    "\n",
    "# Accessing Characters by Index\n",
    "# The first character is at index 0\n",
    "first_char = my_string[0]\n",
    "print(\"First character:\", first_char)  # Output: H"
   ]
  },
  {
   "cell_type": "code",
   "execution_count": null,
   "id": "7069ac0e",
   "metadata": {},
   "outputs": [],
   "source": [
    "# The second character is at index 1\n",
    "second_char = my_string[1]\n",
    "print(\"Second character:\", second_char)  # Output: e"
   ]
  },
  {
   "cell_type": "code",
   "execution_count": null,
   "id": "166611da",
   "metadata": {},
   "outputs": [],
   "source": [
    "# The last character can be accessed using -1\n",
    "last_char = my_string[-1]\n",
    "print(\"Last character:\", last_char)  # Output: !"
   ]
  },
  {
   "cell_type": "code",
   "execution_count": null,
   "id": "8ec68f32",
   "metadata": {},
   "outputs": [],
   "source": [
    "# The second to last character is at index -2\n",
    "second_last_char = my_string[-2]\n",
    "print(\"Second to last character:\", second_last_char)  # Output: d"
   ]
  },
  {
   "cell_type": "code",
   "execution_count": null,
   "id": "24f0da3e",
   "metadata": {},
   "outputs": [],
   "source": [
    "# Practice Question:\n",
    "# 1. Print the first and last character of the string \"Data\"."
   ]
  },
  {
   "cell_type": "markdown",
   "id": "e1b0f30a",
   "metadata": {},
   "source": [
    "### 4. Slicing\n",
    "- Slicing is extracting a part of a string using indices.\n",
    "- You can access a range of characters using slicing.\n",
    "- The syntax for slicing is my_string[start:end], which includes characters from start index to end index - 1."
   ]
  },
  {
   "cell_type": "code",
   "execution_count": null,
   "id": "b78482bd",
   "metadata": {},
   "outputs": [],
   "source": [
    "my_string = \"Hello, World!\"\n",
    "              \n",
    "# Getting the first five characters\n",
    "first_five_chars = my_string[:5]\n",
    "print(\"First five characters:\", first_five_chars)  # Output: Hello"
   ]
  },
  {
   "cell_type": "code",
   "execution_count": null,
   "id": "a668b7e4",
   "metadata": {},
   "outputs": [],
   "source": [
    "sample = \"123456789,\"\n",
    "sample[::3]"
   ]
  },
  {
   "cell_type": "code",
   "execution_count": null,
   "id": "3c1ad51f",
   "metadata": {},
   "outputs": [],
   "source": [
    "# Getting characters from index 7 to the end\n",
    "from_seventh_to_end = my_string[7:]\n",
    "print(\"From seventh to end:\", from_seventh_to_end)  # Output: World!"
   ]
  },
  {
   "cell_type": "code",
   "execution_count": null,
   "id": "3e8fbd02",
   "metadata": {},
   "outputs": [],
   "source": [
    "# Getting characters from index 2 to index 5 (5 not included)\n",
    "mid_section = my_string[2:5]\n",
    "print(\"Characters from index 2 to 5:\", mid_section)  # Output: llo"
   ]
  },
  {
   "cell_type": "code",
   "execution_count": null,
   "id": "0927c526",
   "metadata": {},
   "outputs": [],
   "source": [
    "# Getting every second character in the string\n",
    "every_second_char = my_string[::2]\n",
    "print(\"Every second character:\", every_second_char)  # Output: Hlo ol!"
   ]
  },
  {
   "cell_type": "code",
   "execution_count": null,
   "id": "d7e3f70c",
   "metadata": {},
   "outputs": [],
   "source": [
    "# Reversing a string using slicing\n",
    "reversed_string = my_string[::-1]\n",
    "print(\"Reversed string:\", reversed_string)  # Output: !dlroW ,olleH"
   ]
  },
  {
   "cell_type": "code",
   "execution_count": null,
   "id": "7e3e03fe",
   "metadata": {},
   "outputs": [],
   "source": [
    "# Example Combining Several Features\n",
    "example_string = \"Python is fun!\"\n",
    "print(\"Original string:\", example_string)\n",
    "print(\"Substring 'Python':\", example_string[:6])\n",
    "print(\"Substring 'is':\", example_string[7:9])\n",
    "print(\"Every third character:\", example_string[::3])\n",
    "print(\"Reversed string:\", example_string[::-1])"
   ]
  },
  {
   "cell_type": "code",
   "execution_count": null,
   "id": "73f55a7f",
   "metadata": {},
   "outputs": [],
   "source": [
    "# Practice Question:\n",
    "# 1. Slice the string \"Programming\" to get the substring \"gram\"."
   ]
  },
  {
   "cell_type": "markdown",
   "id": "1fa01573",
   "metadata": {},
   "source": [
    "### 5. Length\n",
    "The length of a string can be found using the len() function."
   ]
  },
  {
   "cell_type": "code",
   "execution_count": null,
   "id": "47385802",
   "metadata": {},
   "outputs": [],
   "source": [
    "length_str = len(str1)  # 5\n",
    "print(length_str)"
   ]
  },
  {
   "cell_type": "code",
   "execution_count": null,
   "id": "330a22ea",
   "metadata": {},
   "outputs": [],
   "source": [
    "# Practice Question:\n",
    "# 1. Find the length of the string \"Machine Learning\"."
   ]
  },
  {
   "cell_type": "markdown",
   "id": "2967cd15",
   "metadata": {},
   "source": [
    "### 6. Upper Case and Lower Case\n",
    "Convert a string to upper case or lower case."
   ]
  },
  {
   "cell_type": "code",
   "execution_count": null,
   "id": "f7ab6fd4",
   "metadata": {},
   "outputs": [],
   "source": [
    "upper_str = str1.upper()  # \"HELLO\"\n",
    "lower_str = str1.lower()  # \"hello\"\n",
    "print(upper_str, lower_str)"
   ]
  },
  {
   "cell_type": "code",
   "execution_count": null,
   "id": "ddf8948a",
   "metadata": {},
   "outputs": [],
   "source": [
    "# Practice Question:\n",
    "# 1. Convert the string \"python\" to upper case.\n",
    "# 2. Convert the string \"PYTHON\" to lower case."
   ]
  },
  {
   "cell_type": "markdown",
   "id": "418539f9",
   "metadata": {},
   "source": [
    "### 7. Strip\n",
    "Strip removes leading and trailing whitespace."
   ]
  },
  {
   "cell_type": "code",
   "execution_count": null,
   "id": "f9ad994e",
   "metadata": {},
   "outputs": [],
   "source": [
    "str_with_spaces = \"   Hello World   \"\n",
    "stripped_str = str_with_spaces.strip()  # \"Hello World\"\n",
    "print(stripped_str)"
   ]
  },
  {
   "cell_type": "code",
   "execution_count": null,
   "id": "40d66c48",
   "metadata": {},
   "outputs": [],
   "source": [
    "# Practice Question:\n",
    "# 1. Remove the leading and trailing spaces from the string \"  Data Science  \"."
   ]
  },
  {
   "cell_type": "markdown",
   "id": "de2a0841",
   "metadata": {},
   "source": [
    "### 8. Replace\n",
    "Replace part of a string with another string."
   ]
  },
  {
   "cell_type": "code",
   "execution_count": null,
   "id": "9af6bd20",
   "metadata": {},
   "outputs": [],
   "source": [
    "replaced_str = str1.replace(\"l\", \"p\")  # \"Heppo\"\n",
    "print(replaced_str)"
   ]
  },
  {
   "cell_type": "code",
   "execution_count": null,
   "id": "d47af0fe",
   "metadata": {},
   "outputs": [],
   "source": [
    "# Practice Question:\n",
    "# 1. Replace \"Python\" with \"Java\" in the string \"I love Python\"."
   ]
  },
  {
   "cell_type": "markdown",
   "id": "b773d8b7",
   "metadata": {},
   "source": [
    "### 9. Split\n",
    "Split a string into a list of substrings based on a delimiter."
   ]
  },
  {
   "cell_type": "code",
   "execution_count": null,
   "id": "56ecaa74",
   "metadata": {},
   "outputs": [],
   "source": [
    "split_str = concatenated_str.split(\" \")  # [\"Hello\", \"World\"]\n",
    "print(split_str)"
   ]
  },
  {
   "cell_type": "code",
   "execution_count": null,
   "id": "7c6f08d9",
   "metadata": {},
   "outputs": [],
   "source": [
    "# Practice Question:\n",
    "# 1. Split the string \"Python-Data-Science\" using the delimiter \"-\"."
   ]
  },
  {
   "cell_type": "markdown",
   "id": "d7e3b9a9",
   "metadata": {},
   "source": [
    "### 10. Join\n",
    "Join a list of strings into a single string with a specified separator."
   ]
  },
  {
   "cell_type": "code",
   "execution_count": null,
   "id": "4e96d55e",
   "metadata": {},
   "outputs": [],
   "source": [
    "join_list = [\"Data\", \"Science\", \"is\", \"fun\"]\n",
    "joined_str = \" \".join([join_list])  # \"Data Science is fun\"\n",
    "print(joined_str)"
   ]
  },
  {
   "cell_type": "code",
   "execution_count": null,
   "id": "1a63dabb",
   "metadata": {},
   "outputs": [],
   "source": [
    "# Practice Question:\n",
    "# 1. Join the list [\"Machine\", \"Learning\", \"is\", \"amazing\"] with a space separator."
   ]
  },
  {
   "cell_type": "markdown",
   "id": "9e19b00c",
   "metadata": {},
   "source": [
    "### 11. Find\n",
    "Find the first occurrence of a substring in a string."
   ]
  },
  {
   "cell_type": "code",
   "execution_count": null,
   "id": "7018df0e",
   "metadata": {
    "scrolled": true
   },
   "outputs": [],
   "source": [
    "find_str = str1.find(\"l\")  # 2 is returned which is the position\n",
    "print(find_str)"
   ]
  },
  {
   "cell_type": "code",
   "execution_count": null,
   "id": "40ee1345",
   "metadata": {},
   "outputs": [],
   "source": [
    "# Practice Question:\n",
    "# 1. Find the position of \"Data\" in the string \"Data Science\"."
   ]
  },
  {
   "cell_type": "markdown",
   "id": "1caad4b6",
   "metadata": {},
   "source": [
    "### 12. Count\n",
    "Count the number of occurrences of a substring in a string."
   ]
  },
  {
   "cell_type": "code",
   "execution_count": null,
   "id": "be1e5bc0",
   "metadata": {},
   "outputs": [],
   "source": [
    "count_str = str1.count(\"l\")  # 2\n",
    "print(count_str)"
   ]
  },
  {
   "cell_type": "code",
   "execution_count": null,
   "id": "4e5acee7",
   "metadata": {},
   "outputs": [],
   "source": [
    "# Practice Question:\n",
    "# 1. Count the number of times \"a\" appears in the string \"banana\"."
   ]
  },
  {
   "cell_type": "markdown",
   "id": "6fc940d7",
   "metadata": {},
   "source": [
    "### 13. String Formatting\n",
    "Format strings using placeholders."
   ]
  },
  {
   "cell_type": "code",
   "execution_count": null,
   "id": "d98240b1",
   "metadata": {},
   "outputs": [],
   "source": [
    "name = \"Alice\"\n",
    "age = 30\n",
    "formatted_str = f\"My name is {name} and I am {age} years old.\"  # \"My name is Alice and I am 30 years old.\"\n",
    "print(formatted_str)"
   ]
  },
  {
   "cell_type": "code",
   "execution_count": null,
   "id": "56b1c485",
   "metadata": {},
   "outputs": [],
   "source": [
    "# Practice Question:\n",
    "# 1. Format a string to say \"I have 3 cats and 2 dogs\"."
   ]
  },
  {
   "cell_type": "markdown",
   "id": "19ef312b",
   "metadata": {},
   "source": [
    "### 14. Check if a string contains a substring\n",
    "Check if a substring exists within a string using the `in` keyword."
   ]
  },
  {
   "cell_type": "code",
   "execution_count": null,
   "id": "632c6363",
   "metadata": {},
   "outputs": [],
   "source": [
    "contains_substr = \"World\" in concatenated_str  # True\n",
    "print(contains_substr)"
   ]
  },
  {
   "cell_type": "code",
   "execution_count": null,
   "id": "d0555da1",
   "metadata": {},
   "outputs": [],
   "source": [
    "# Practice Question:\n",
    "# 1. Check if the string \"Data\" is in the string \"Data Science\"."
   ]
  },
  {
   "cell_type": "markdown",
   "id": "3f0862c2",
   "metadata": {},
   "source": [
    "### 15. Check if a string starts or ends with a substring\n",
    "Use `startswith()` and `endswith()` methods to check if a string starts or ends with a specific substring."
   ]
  },
  {
   "cell_type": "code",
   "execution_count": null,
   "id": "dc1af35d",
   "metadata": {},
   "outputs": [],
   "source": [
    "starts_with = str1.startswith(\"He\")  # True\n",
    "ends_with = str2.endswith(\"ld\")  # True\n",
    "print(starts_with, ends_with)"
   ]
  },
  {
   "cell_type": "code",
   "execution_count": null,
   "id": "e981dabc",
   "metadata": {},
   "outputs": [],
   "source": [
    "# Practice Question:\n",
    "# 1. Check if the string \"Hello World\" starts with \"Hello\".\n",
    "# 2. Check if the string \"Hello World\" ends with \"World\"."
   ]
  }
 ],
 "metadata": {
  "kernelspec": {
   "display_name": "Python 3 (ipykernel)",
   "language": "python",
   "name": "python3"
  },
  "language_info": {
   "codemirror_mode": {
    "name": "ipython",
    "version": 3
   },
   "file_extension": ".py",
   "mimetype": "text/x-python",
   "name": "python",
   "nbconvert_exporter": "python",
   "pygments_lexer": "ipython3",
   "version": "3.10.9"
  }
 },
 "nbformat": 4,
 "nbformat_minor": 5
}
