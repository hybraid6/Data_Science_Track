{
 "cells": [
  {
   "cell_type": "markdown",
   "id": "b056569d",
   "metadata": {},
   "source": [
    "# Python IF, ELIF & ELSE Conditions"
   ]
  },
  {
   "cell_type": "markdown",
   "id": "fa308934",
   "metadata": {},
   "source": [
    "###  Python If Condition\n",
    "The if statement allows you to execute a block of code if a condition is True."
   ]
  },
  {
   "cell_type": "code",
   "execution_count": null,
   "id": "7f2bf653",
   "metadata": {},
   "outputs": [],
   "source": [
    "# Example:\n",
    "x = 10\n",
    "if x > 5:\n",
    "    print(\"x is greater than 5\")"
   ]
  },
  {
   "cell_type": "code",
   "execution_count": null,
   "id": "2d314f78",
   "metadata": {},
   "outputs": [],
   "source": [
    "x = 4\n",
    "if x > 5:\n",
    "    print (\"Yes\")\n",
    "elif x == 4:\n",
    "    print(\"manageable\")\n",
    "else:\n",
    "    print (\"no\")"
   ]
  },
  {
   "cell_type": "code",
   "execution_count": null,
   "id": "afc41eab",
   "metadata": {},
   "outputs": [],
   "source": [
    "# Practice Questions:\n",
    "# 1. Write a program that checks if a number is positive. If it is, print \"The number is positive\"."
   ]
  },
  {
   "cell_type": "markdown",
   "id": "51588c30",
   "metadata": {},
   "source": [
    "### If/Else Condition\n",
    "\n",
    "The if/else statement allows you to execute one block of code if a condition is True, and another block of code if the condition is False."
   ]
  },
  {
   "cell_type": "code",
   "execution_count": null,
   "id": "74ece88a",
   "metadata": {},
   "outputs": [],
   "source": [
    "# Example:\n",
    "y = 3\n",
    "if y % 2 == 0:\n",
    "    print(\"y is even\")\n",
    "else:\n",
    "    print(\"y is odd\")"
   ]
  },
  {
   "cell_type": "code",
   "execution_count": null,
   "id": "25a8f391",
   "metadata": {},
   "outputs": [],
   "source": [
    "# Practice Questions:\n",
    "# 1. Write a program that checks if a number is positive or negative. Print \"Positive\" or \"Negative\"."
   ]
  },
  {
   "cell_type": "markdown",
   "id": "3be3b440",
   "metadata": {},
   "source": [
    "### If/Elif/Else Condition\n",
    "\n",
    "The if/elif/else statement allows you to check multiple conditions.\n",
    "If the first condition is False, it checks the next condition, and so on."
   ]
  },
  {
   "cell_type": "code",
   "execution_count": null,
   "id": "dd6aeb59",
   "metadata": {},
   "outputs": [],
   "source": [
    "# Example:\n",
    "z = 0\n",
    "if z > 0:\n",
    "    print(\"z is positive\")\n",
    "elif z < 0:\n",
    "    print(\"z is negative\")\n",
    "else:\n",
    "    print(\"z is zero\")"
   ]
  },
  {
   "cell_type": "code",
   "execution_count": null,
   "id": "2e40e36b",
   "metadata": {},
   "outputs": [],
   "source": [
    "# Practice Questions:\n",
    "# 1. Write a program that checks if a number is positive, negative, or zero. Print \"Positive\", \"Negative\", or \"Zero\"."
   ]
  },
  {
   "cell_type": "markdown",
   "id": "03fe296e",
   "metadata": {},
   "source": [
    "## More Detailed Examples and Explanations"
   ]
  },
  {
   "cell_type": "markdown",
   "id": "a00b61ba",
   "metadata": {},
   "source": [
    "#### 1. If Condition\n",
    "An if statement executes the block of code inside it only if the condition is True."
   ]
  },
  {
   "cell_type": "code",
   "execution_count": null,
   "id": "20e14a6e",
   "metadata": {},
   "outputs": [],
   "source": [
    "temperature = 30\n",
    "if temperature > 25:\n",
    "    print(\"It's hot outside.\")"
   ]
  },
  {
   "cell_type": "code",
   "execution_count": null,
   "id": "4e0e9923",
   "metadata": {},
   "outputs": [],
   "source": [
    "# Practice Questions:\n",
    "# 1. Write a program that prints \"You passed!\" if a student's score is above 50."
   ]
  },
  {
   "cell_type": "markdown",
   "id": "26dcd682",
   "metadata": {},
   "source": [
    "#### 2. If/Else Condition\n",
    "If the condition in the if statement is False, the else block will be executed."
   ]
  },
  {
   "cell_type": "code",
   "execution_count": null,
   "id": "9a310f3e",
   "metadata": {},
   "outputs": [],
   "source": [
    "age = 18\n",
    "if age >= 18:\n",
    "    print(\"You are an adult.\")\n",
    "else:\n",
    "    print(\"You are a minor.\")"
   ]
  },
  {
   "cell_type": "code",
   "execution_count": null,
   "id": "a07e17c2",
   "metadata": {},
   "outputs": [],
   "source": [
    "# Practice Questions:\n",
    "# 1. Write a program that checks if a number is even or odd. Print \"Even\" or \"Odd\"."
   ]
  },
  {
   "cell_type": "markdown",
   "id": "b0262581",
   "metadata": {},
   "source": [
    "#### 3. If/Elif/Else Condition\n",
    "- If the 'if' condition is False, the elif condition is checked. If it is True, the elif block is executed.\n",
    "- If all conditions are False, the else block is executed."
   ]
  },
  {
   "cell_type": "code",
   "execution_count": null,
   "id": "109282a9",
   "metadata": {},
   "outputs": [],
   "source": [
    "marks = 85\n",
    "if marks >= 90:\n",
    "    print(\"Grade: A\")\n",
    "elif marks >= 80:\n",
    "    print(\"Grade: B\")\n",
    "elif marks >= 70:\n",
    "    print(\"Grade: C\")\n",
    "elif marks >= 60:\n",
    "    print(\"Grade: D\")\n",
    "else:\n",
    "    print(\"Grade: F\")"
   ]
  },
  {
   "cell_type": "code",
   "execution_count": null,
   "id": "4068ba29",
   "metadata": {},
   "outputs": [],
   "source": [
    "# Practice Questions:\n",
    "# 1. Write a program that assigns grades based on marks using the following criteria:\n",
    "#    - 350 and above: Exceeds Expectation\n",
    "#    - 300 to 349: Outstanding\n",
    "#    - 250 to 299: Acceptable\n",
    "#    - 200 to 249: Fair\n",
    "#    - Below 200: Troll"
   ]
  },
  {
   "cell_type": "markdown",
   "id": "e867cb49",
   "metadata": {},
   "source": [
    "### Nested If Statements\n",
    "You can use nested if statements to check multiple conditions."
   ]
  },
  {
   "cell_type": "code",
   "execution_count": null,
   "id": "93b4d18c",
   "metadata": {},
   "outputs": [],
   "source": [
    "num = 15\n",
    "if num > 0:\n",
    "    print(\"Positive number\")\n",
    "    if num % 2 == 0:\n",
    "        print(\"Even number\")\n",
    "    else:\n",
    "        print(\"Odd number\")\n",
    "else:\n",
    "    print(\"Negative number\")"
   ]
  },
  {
   "cell_type": "code",
   "execution_count": null,
   "id": "63f492b5",
   "metadata": {},
   "outputs": [],
   "source": [
    "# Practice Questions:\n",
    "# 1. Write a program that checks if a number is positive. If it is, check if it is even or odd."
   ]
  },
  {
   "cell_type": "markdown",
   "id": "2dc8718e",
   "metadata": {},
   "source": [
    "### Logical Operators with If Conditions\n",
    "You can combine multiple conditions using logical operators like `and`, `or`, and `not`."
   ]
  },
  {
   "cell_type": "code",
   "execution_count": null,
   "id": "080a0788",
   "metadata": {},
   "outputs": [],
   "source": [
    "age = 20\n",
    "if age >= 18 and age <= 65:\n",
    "    print(\"You are eligible to work.\")\n",
    "else:\n",
    "    print(\"You are not eligible to work.\")"
   ]
  },
  {
   "cell_type": "code",
   "execution_count": null,
   "id": "551e1468",
   "metadata": {},
   "outputs": [],
   "source": [
    "# Practice Questions:\n",
    "# 1. Write a program that checks if a number is between 10 and 20, inclusive."
   ]
  },
  {
   "cell_type": "markdown",
   "id": "5fef183c",
   "metadata": {},
   "source": [
    "### Using If Conditions with Strings\n",
    "You can use if conditions to compare strings."
   ]
  },
  {
   "cell_type": "code",
   "execution_count": null,
   "id": "7da3a75b",
   "metadata": {},
   "outputs": [],
   "source": [
    "password = \"secure123\"\n",
    "if password == \"secure123\":\n",
    "    print(\"Access granted\")\n",
    "else:\n",
    "    print(\"Access denied\")"
   ]
  },
  {
   "cell_type": "code",
   "execution_count": null,
   "id": "a48f82df",
   "metadata": {},
   "outputs": [],
   "source": [
    "# Practice Questions:\n",
    "# 1. Write a program that checks if a given string matches your username and prints \"Username correct\" or \"Username incorrect\"."
   ]
  },
  {
   "cell_type": "markdown",
   "id": "2dc2f5ef",
   "metadata": {},
   "source": [
    "### Combining Conditions\n",
    "You can combine multiple conditions using nested if statements and logical operators."
   ]
  },
  {
   "cell_type": "code",
   "execution_count": null,
   "id": "e5e02edd",
   "metadata": {},
   "outputs": [],
   "source": [
    "time = 14\n",
    "if time < 12:\n",
    "    print(\"Good morning!\")\n",
    "elif time < 18:\n",
    "    print(\"Good afternoon!\")\n",
    "else:\n",
    "    print(\"Good evening!\")"
   ]
  },
  {
   "cell_type": "code",
   "execution_count": null,
   "id": "d3b8ac9b",
   "metadata": {},
   "outputs": [],
   "source": [
    "# Practice Questions:\n",
    "# 1. Write a program that prints a greeting based on the time of day:\n",
    "#    - Before 12: \"Good morning!\"\n",
    "#    - Between 12 and 18: \"Good afternoon!\"\n",
    "#    - After 18: \"Good evening!\"\n"
   ]
  }
 ],
 "metadata": {
  "kernelspec": {
   "display_name": "Python 3 (ipykernel)",
   "language": "python",
   "name": "python3"
  },
  "language_info": {
   "codemirror_mode": {
    "name": "ipython",
    "version": 3
   },
   "file_extension": ".py",
   "mimetype": "text/x-python",
   "name": "python",
   "nbconvert_exporter": "python",
   "pygments_lexer": "ipython3",
   "version": "3.10.9"
  }
 },
 "nbformat": 4,
 "nbformat_minor": 5
}
