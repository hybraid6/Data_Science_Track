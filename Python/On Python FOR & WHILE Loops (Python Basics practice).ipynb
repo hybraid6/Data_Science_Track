{
 "cells": [
  {
   "cell_type": "markdown",
   "id": "0a177dad",
   "metadata": {},
   "source": [
    "# Python FOR & WHILE Loops"
   ]
  },
  {
   "cell_type": "markdown",
   "id": "420a7fa5",
   "metadata": {},
   "source": [
    "### Python For Loop\n",
    "\n",
    "A for loop is used to iterate over a sequence (such as a list, tuple, string, or range)."
   ]
  },
  {
   "cell_type": "code",
   "execution_count": null,
   "id": "9014b5fe",
   "metadata": {},
   "outputs": [],
   "source": [
    "# Example: Iterating over a list\n",
    "fruits = [\"apple\", \"banana\", \"cherry\"]\n",
    "for fruit in fruits:\n",
    "    print(fruit)"
   ]
  },
  {
   "cell_type": "code",
   "execution_count": null,
   "id": "64ae1c8d",
   "metadata": {},
   "outputs": [],
   "source": [
    "# Practice Questions:\n",
    "# 1. Write a program that prints each element in the list [\"cat\", \"dog\", \"rabbit\"]."
   ]
  },
  {
   "cell_type": "markdown",
   "id": "db1b66ba",
   "metadata": {},
   "source": [
    "#### Example: Iterating over a string"
   ]
  },
  {
   "cell_type": "code",
   "execution_count": null,
   "id": "ffeac3e0",
   "metadata": {},
   "outputs": [],
   "source": [
    "for char in \"hello\":\n",
    "    print(char)"
   ]
  },
  {
   "cell_type": "code",
   "execution_count": null,
   "id": "81bc40f8",
   "metadata": {},
   "outputs": [],
   "source": [
    "# Practice Questions:\n",
    "# 1. Write a program that prints each character in the string \"Python\"."
   ]
  },
  {
   "cell_type": "markdown",
   "id": "17135f18",
   "metadata": {},
   "source": [
    "#### Example: Using range() function\n",
    "The range() function generates a sequence of numbers."
   ]
  },
  {
   "cell_type": "code",
   "execution_count": null,
   "id": "46055fcd",
   "metadata": {},
   "outputs": [],
   "source": [
    "for i in range(5):\n",
    "    print(i)  # Prints numbers from 0 to 4"
   ]
  },
  {
   "cell_type": "code",
   "execution_count": null,
   "id": "461907d0",
   "metadata": {},
   "outputs": [],
   "source": [
    "# Practice Questions:\n",
    "# 1. Write a program that prints numbers from 0 to 9 using a for loop and the range() function."
   ]
  },
  {
   "cell_type": "markdown",
   "id": "0416ed41",
   "metadata": {},
   "source": [
    "#### Example: Using range() with start, stop, and step arguments"
   ]
  },
  {
   "cell_type": "code",
   "execution_count": null,
   "id": "a5594698",
   "metadata": {},
   "outputs": [],
   "source": [
    "for i in range(1, 10, 2):\n",
    "    print(i)  # Prints 1, 3, 5, 7, 9"
   ]
  },
  {
   "cell_type": "code",
   "execution_count": null,
   "id": "64af1b19",
   "metadata": {},
   "outputs": [],
   "source": [
    "# Practice Questions:\n",
    "# 1. Write a program that prints every second number from 1 to 10 using the range() function."
   ]
  },
  {
   "cell_type": "markdown",
   "id": "80074702",
   "metadata": {},
   "source": [
    "### More on the range() function\n",
    "- The range() function generates a sequence of numbers. It is commonly used in for-loops.\n",
    "- It can take one, two, or three arguments."
   ]
  },
  {
   "cell_type": "markdown",
   "id": "66840c52",
   "metadata": {},
   "source": [
    "#### Example 1: range(stop)\n",
    "Generates a sequence of numbers starting from 0 up to, but not including, stop ( i.e stop - 1)."
   ]
  },
  {
   "cell_type": "code",
   "execution_count": null,
   "id": "a8eaebd8",
   "metadata": {},
   "outputs": [],
   "source": [
    "print(\"Example 1:\")\n",
    "for i in range(5):\n",
    "    print(i)  # Output: 0, 1, 2, 3, 4"
   ]
  },
  {
   "cell_type": "markdown",
   "id": "76d0ce16",
   "metadata": {},
   "source": [
    "#### Example 2: range(start, stop)\n",
    "Generates a sequence of numbers starting from start up to, but not including, stop (stop - 1)."
   ]
  },
  {
   "cell_type": "code",
   "execution_count": null,
   "id": "93c02de0",
   "metadata": {},
   "outputs": [],
   "source": [
    "print(\"Example 2:\")\n",
    "for i in range(2, 6):\n",
    "    print(i)  # Output: 2, 3, 4, 5"
   ]
  },
  {
   "cell_type": "markdown",
   "id": "46fe8a0c",
   "metadata": {},
   "source": [
    "#### Example 3: range(start, stop, step)\n",
    "Generates numbers from start to stop - 1, incrementing by step."
   ]
  },
  {
   "cell_type": "code",
   "execution_count": null,
   "id": "0dac6817",
   "metadata": {},
   "outputs": [],
   "source": [
    "print(\"Example 3:\")\n",
    "for i in range(1, 10, 2):\n",
    "    print(i)  # Output: 1, 3, 5, 7, 9"
   ]
  },
  {
   "cell_type": "markdown",
   "id": "df43687f",
   "metadata": {},
   "source": [
    "#### Example 4: Using range() to create a list\n",
    "You can convert the range object to a list using the list() function."
   ]
  },
  {
   "cell_type": "code",
   "execution_count": null,
   "id": "a70b39ae",
   "metadata": {},
   "outputs": [],
   "source": [
    "print(\"Example 4:\")\n",
    "range_list = list(range(5))\n",
    "print(range_list)  # Output: [0, 1, 2, 3, 4]"
   ]
  },
  {
   "cell_type": "markdown",
   "id": "8b162352",
   "metadata": {},
   "source": [
    "#### Example: Nested for loops\n",
    "You can use nested for loops to iterate over multiple sequences."
   ]
  },
  {
   "cell_type": "code",
   "execution_count": null,
   "id": "2280194e",
   "metadata": {},
   "outputs": [],
   "source": [
    "for i in range(3):\n",
    "    for j in range(2):\n",
    "        print(f\"i={i}, j={j}\")"
   ]
  },
  {
   "cell_type": "code",
   "execution_count": null,
   "id": "c247cc72",
   "metadata": {},
   "outputs": [],
   "source": [
    "# Practice Questions:\n",
    "# 1. Write a program that uses nested for loops to print a 3x3 matrix of asterisks."
   ]
  },
  {
   "cell_type": "markdown",
   "id": "b033cdd4",
   "metadata": {},
   "source": [
    "### Python While Loop\n",
    "\n",
    "A while loop is used to execute a block of code repeatedly as long as a condition is True."
   ]
  },
  {
   "cell_type": "markdown",
   "id": "3df93bdf",
   "metadata": {},
   "source": [
    "#### Example: Basic while loop"
   ]
  },
  {
   "cell_type": "code",
   "execution_count": null,
   "id": "f4c7ca20",
   "metadata": {},
   "outputs": [],
   "source": [
    "count = 0\n",
    "while count < 5:\n",
    "    print(count)\n",
    "    count += 1 # i.e count = count + 1 (Increase by 1 in each repetition)"
   ]
  },
  {
   "cell_type": "code",
   "execution_count": null,
   "id": "f9203c96",
   "metadata": {},
   "outputs": [],
   "source": [
    "# Practice Questions:\n",
    "# 1. Write a program that uses a while loop to print numbers from 1 to 5."
   ]
  },
  {
   "cell_type": "markdown",
   "id": "55b6e160",
   "metadata": {},
   "source": [
    "#### Example: Using a while loop with a break statement\n",
    "The break statement is used to exit a loop prematurely when a certain condition is met."
   ]
  },
  {
   "cell_type": "code",
   "execution_count": null,
   "id": "e6f47331",
   "metadata": {},
   "outputs": [],
   "source": [
    "count = 0\n",
    "while True:\n",
    "    print(count)\n",
    "    count += 1 # i.e count = count + 1 (Increase by 1 in each repetition)\n",
    "    if count >= 5:\n",
    "        break"
   ]
  },
  {
   "cell_type": "markdown",
   "id": "b1f52a01",
   "metadata": {},
   "source": [
    "- The break statement is used to exit a loop before it has finished iterating over all items.\n",
    "- In the following example, the loop iterates through the numbers from 0 to 9. When i becomes 5, the break statement is executed, causing the loop to exit immediately."
   ]
  },
  {
   "cell_type": "code",
   "execution_count": null,
   "id": "097fc8c7",
   "metadata": {},
   "outputs": [],
   "source": [
    "for i in range(10):\n",
    "    if i == 5:\n",
    "        break  # Exit the loop when i is 5\n",
    "    print(i)\n",
    "# Output: 0, 1, 2, 3, 4"
   ]
  },
  {
   "cell_type": "code",
   "execution_count": null,
   "id": "33c1db95",
   "metadata": {},
   "outputs": [],
   "source": [
    "# Practice Questions:\n",
    "# 1. Write a program that uses a while loop to print numbers from 1 to 15, then breaks out of the loop."
   ]
  },
  {
   "cell_type": "markdown",
   "id": "9bcb5a17",
   "metadata": {},
   "source": [
    "#### Example: Using a while loop with a continue statement\n",
    "The continue statement is used to skip the current iteration of a loop and continue with the next iteration."
   ]
  },
  {
   "cell_type": "code",
   "execution_count": null,
   "id": "927e77df",
   "metadata": {},
   "outputs": [],
   "source": [
    "count = 0\n",
    "while count < 5:\n",
    "    count += 1\n",
    "    if count == 3:\n",
    "        continue\n",
    "    print(count)"
   ]
  },
  {
   "cell_type": "markdown",
   "id": "6caf95e5",
   "metadata": {},
   "source": [
    "- The continue statement skips the current iteration and moves on to the next iteration of the loop.\n",
    "- In the example, the loop iterates through the numbers from 0 to 9. When i is an even number (i.e., `i % 2 == 0`), the continue statement is executed, skipping the `print(i)` statement and moving on to the next iteration.\n"
   ]
  },
  {
   "cell_type": "code",
   "execution_count": null,
   "id": "e62cf342",
   "metadata": {},
   "outputs": [],
   "source": [
    "for i in range(10):\n",
    "    if i % 2 == 0:\n",
    "        continue  # Skip the rest of the loop when i is even\n",
    "    print(i)\n",
    "# Output: 1, 3, 5, 7, 9"
   ]
  },
  {
   "cell_type": "code",
   "execution_count": null,
   "id": "cf6bf1b8",
   "metadata": {},
   "outputs": [],
   "source": [
    "# Practice Questions:\n",
    "# 1. Write a program that uses a while loop to print numbers from 1 to 5, but skips the number 3."
   ]
  },
  {
   "cell_type": "markdown",
   "id": "e0daf2ff",
   "metadata": {},
   "source": [
    "#### Example: Using a while loop to iterate over a list"
   ]
  },
  {
   "cell_type": "code",
   "execution_count": null,
   "id": "e5bc7197",
   "metadata": {},
   "outputs": [],
   "source": [
    "numbers = [1, 2, 3, 4, 5]\n",
    "index = 0\n",
    "while index < len(numbers):\n",
    "    print(numbers[index])\n",
    "    index += 1"
   ]
  },
  {
   "cell_type": "code",
   "execution_count": null,
   "id": "2142d412",
   "metadata": {},
   "outputs": [],
   "source": [
    "# Practice Questions:\n",
    "# 1. Write a program that uses a while loop to print each element in the list [\"apple\", \"banana\", \"cherry\"]."
   ]
  },
  {
   "cell_type": "markdown",
   "id": "31002113",
   "metadata": {},
   "source": [
    "#### Example: Using a while loop to sum numbers"
   ]
  },
  {
   "cell_type": "code",
   "execution_count": null,
   "id": "9587f4f4",
   "metadata": {},
   "outputs": [],
   "source": [
    "total = 0\n",
    "num = 1\n",
    "while num <= 10:\n",
    "    total += num # total = total + num (i.e.total =  0 + 1  for the first iteration)\n",
    "    num += 1 # num = num + num (i.e. num = 1 + 1 for the first iteration)\n",
    "print(\"Sum:\", total)  # Sum: 55"
   ]
  },
  {
   "cell_type": "code",
   "execution_count": null,
   "id": "97479e70",
   "metadata": {},
   "outputs": [],
   "source": [
    "# Practice Questions:\n",
    "# 1. Write a program that uses a while loop to calculate the sum of numbers from 1 to 100."
   ]
  },
  {
   "cell_type": "markdown",
   "id": "3c3b10ad",
   "metadata": {},
   "source": [
    "### Combining For and While Loops"
   ]
  },
  {
   "cell_type": "code",
   "execution_count": null,
   "id": "f9105708",
   "metadata": {},
   "outputs": [],
   "source": [
    "# Example: Using a for loop to iterate over a range and a while loop inside\n",
    "for i in range(1, 4):\n",
    "    count = 0\n",
    "    while count < i:\n",
    "        print(f\"i={i}, count={count}\")\n",
    "        count += 1"
   ]
  },
  {
   "cell_type": "markdown",
   "id": "249b8e63",
   "metadata": {},
   "source": [
    "#### About F- strings (i.e. the f\"i={i}, count={count}\" part)\n",
    "- F-strings (formatted string literals) are a way to include variables and expressions inside strings easily. They make string formatting simpler and more readable.\n",
    "- F-strings start with f or F.\n",
    "- Variables and expressions go inside {}.\n",
    "- They make it easy to combine text with variables and expressions."
   ]
  },
  {
   "cell_type": "code",
   "execution_count": null,
   "id": "fca08bfe",
   "metadata": {},
   "outputs": [],
   "source": [
    "# Practice Questions:\n",
    "# 1. Write a program that uses a for loop to iterate over the range 1 to 3, and a nested while loop to print the value of `count` from 0 to `i`."
   ]
  }
 ],
 "metadata": {
  "kernelspec": {
   "display_name": "Python 3 (ipykernel)",
   "language": "python",
   "name": "python3"
  },
  "language_info": {
   "codemirror_mode": {
    "name": "ipython",
    "version": 3
   },
   "file_extension": ".py",
   "mimetype": "text/x-python",
   "name": "python",
   "nbconvert_exporter": "python",
   "pygments_lexer": "ipython3",
   "version": "3.10.9"
  }
 },
 "nbformat": 4,
 "nbformat_minor": 5
}
